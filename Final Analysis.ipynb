{
 "cells": [
  {
   "cell_type": "code",
   "execution_count": 14,
   "metadata": {},
   "outputs": [
    {
     "name": "stdout",
     "output_type": "stream",
     "text": [
      "BEFORE LOCKDOWN DATA\n",
      "PHASE 1\n",
      "PHASE 2\n",
      "PHASE 3\n",
      "PHASE 4\n",
      "UNLOCK 2.0 LAST 4 DAYS DATA(7,8,9,10 JULY)\n"
     ]
    }
   ],
   "source": [
    "import json\n",
    "\n",
    "import pandas as pd\n",
    "from textblob import TextBlob\n",
    "import csv\n",
    "\n",
    "\n",
    "def plot_overall_sent(data_frame,file_writer):\n",
    "    data_frame[\"wgt\"]=data_frame.apply(lambda row:(row[\"Retweet_Count\"]*0.3+row[\"Actual Tweet\"][\"favorite_count\"]*0.1)*row[\"sentiment_subjectivity\"],axis=1)\n",
    "    #print(data_frame[\"wgt\"])\n",
    "    avg_sentiment=0\n",
    "    wgt_sum = 0\n",
    "    positive = 0\n",
    "    w_positive = 0\n",
    "    s_positive = 0\n",
    "    negative = 0\n",
    "    w_negative = 0\n",
    "    s_negative = 0\n",
    "    neutral = 0\n",
    "    for i in data_frame.index:\n",
    "        tweet_sentiment=data_frame[\"wgt\"][i]*data_frame[\"sentiment_polarity\"][i]\n",
    "        avg_sentiment+=tweet_sentiment\n",
    "        wgt_sum+=data_frame[\"wgt\"][i]\n",
    "        if data_frame[\"sentiment_polarity\"][i] == 0:\n",
    "            neutral += data_frame[\"wgt\"][i]\n",
    "        elif 0 < data_frame[\"sentiment_polarity\"][i] <= 0.3:\n",
    "            w_positive += data_frame[\"wgt\"][i]\n",
    "        elif 0.3 < data_frame[\"sentiment_polarity\"][i] <= 0.6:\n",
    "            positive += data_frame[\"wgt\"][i]\n",
    "        elif 0.6 < data_frame[\"sentiment_polarity\"][i] <= 1:\n",
    "            s_positive += data_frame[\"wgt\"][i]\n",
    "        elif -0.3 < data_frame[\"sentiment_polarity\"][i] <= 0:\n",
    "            w_negative += data_frame[\"wgt\"][i]\n",
    "        elif -0.6 < data_frame[\"sentiment_polarity\"][i] <= -0.3:\n",
    "            negative += data_frame[\"wgt\"][i]\n",
    "        elif -1<= data_frame[\"sentiment_polarity\"][i] <= -0.6:\n",
    "            s_negative += data_frame[\"wgt\"][i]\n",
    "    overall_sentiment=avg_sentiment/wgt_sum\n",
    "    positive=(positive/wgt_sum)*100\n",
    "    negative=(negative/wgt_sum)*100\n",
    "    neutral=(neutral/wgt_sum)*100\n",
    "    s_positive=(s_positive/wgt_sum)*100\n",
    "    s_negative=(s_negative/wgt_sum)*100\n",
    "    w_positive=(w_positive/wgt_sum)*100\n",
    "    w_negative=(w_negative/wgt_sum)*100\n",
    "    file_writer.writerow({'Phase_Name':phase, 'Positive(%)': positive,'Negative(%)':negative,'Weakly Negative':w_negative,\"Weakly Positive\":w_positive,\"Strongly Negative\":s_negative,\"Strongly Positive\":s_positive,\"Neutral\":neutral,\"Overall_sentiment\":overall_sentiment})\n",
    "\n",
    "\n",
    "def find_sentiment(phase,writer):\n",
    "    data_frame = pd.read_csv(fr\"IBM HACK CHALLENGE DATA\\{phase}\\final_cleaned_data.csv\",engine=\"python\")\n",
    "    from ast import literal_eval\n",
    "    data_frame.dropna(inplace=True)\n",
    "    data_frame['Actual Tweet'] = data_frame['Actual Tweet'].apply(literal_eval)\n",
    "    data_frame= data_frame[data_frame['cleaned_text'].str.lower().str.contains('lockdown')]\n",
    "    print(phase)\n",
    "    data_frame[\"sentiment_polarity\"]=data_frame.apply(lambda x:get_textblob_sentiment(x[\"cleaned_text\"]).polarity, axis=1)\n",
    "    data_frame[\"sentiment_subjectivity\"] = data_frame.apply(lambda x: get_textblob_sentiment(x[\"cleaned_text\"]).subjectivity, axis=1)\n",
    "    data_frame=data_frame[data_frame[\"sentiment_subjectivity\"]>0.5]\n",
    "    plot_overall_sent(data_frame,writer)\n",
    "\n",
    "with open('plot_data.csv', 'a', newline='') as file:\n",
    "        fieldnames = ['Phase_Name', 'Positive(%)','Negative(%)',\"Weakly Negative\",\"Weakly Positive\",\"Strongly Negative\",\"Strongly Positive\",\"Neutral\",\"Overall_sentiment\"]\n",
    "        writer = csv.DictWriter(file, fieldnames=fieldnames)\n",
    "        writer.writeheader()\n",
    "        for phase in [\"BEFORE LOCKDOWN DATA\",\"PHASE 1\",\"PHASE 2\",\"PHASE 3\",\"PHASE 4\",\"UNLOCK 2.0 LAST 4 DAYS DATA(7,8,9,10 JULY)\"]:\n",
    "            find_sentiment(phase,writer)"
   ]
  },
  {
   "cell_type": "code",
   "execution_count": 1,
   "metadata": {},
   "outputs": [],
   "source": [
    "import json\n",
    "from textblob import TextBlob\n",
    "\n",
    "def get_textblob_sentiment(tweetText):\n",
    "    return TextBlob(tweetText).sentiment\n"
   ]
  },
  {
   "cell_type": "code",
   "execution_count": null,
   "metadata": {},
   "outputs": [],
   "source": []
  },
  {
   "cell_type": "code",
   "execution_count": null,
   "metadata": {},
   "outputs": [],
   "source": []
  }
 ],
 "metadata": {
  "kernelspec": {
   "display_name": "Python 3",
   "language": "python",
   "name": "python3"
  },
  "language_info": {
   "codemirror_mode": {
    "name": "ipython",
    "version": 3
   },
   "file_extension": ".py",
   "mimetype": "text/x-python",
   "name": "python",
   "nbconvert_exporter": "python",
   "pygments_lexer": "ipython3",
   "version": "3.6.5"
  }
 },
 "nbformat": 4,
 "nbformat_minor": 2
}
